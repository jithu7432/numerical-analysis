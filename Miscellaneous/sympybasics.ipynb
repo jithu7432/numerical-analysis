{
 "cells": [
  {
   "cell_type": "code",
   "execution_count": 60,
   "id": "7b7cafa1-379b-412c-8b33-7d4135a4015d",
   "metadata": {},
   "outputs": [],
   "source": [
    "import numpy as np\n",
    "import matplotlib.pyplot as plt\n",
    "import sympy as smp"
   ]
  },
  {
   "cell_type": "code",
   "execution_count": 63,
   "id": "51cf57f0-c963-44f8-a727-ff535822804a",
   "metadata": {},
   "outputs": [],
   "source": [
    "x, y, n = smp.symbols('x y n')"
   ]
  },
  {
   "cell_type": "markdown",
   "id": "04b49423-d825-4559-918e-dbfb3f3417f5",
   "metadata": {},
   "source": [
    "## Summation"
   ]
  },
  {
   "cell_type": "code",
   "execution_count": 64,
   "id": "c8498336-9e4a-4dc7-8156-4afa2dd2a5c4",
   "metadata": {},
   "outputs": [],
   "source": [
    "y = smp.Sum(1/(2**n),(n,0,smp.oo))"
   ]
  },
  {
   "cell_type": "code",
   "execution_count": 65,
   "id": "a6148748-7ab3-4fc7-a17b-231fba93aef0",
   "metadata": {},
   "outputs": [
    {
     "data": {
      "text/latex": [
       "$\\displaystyle \\sum_{n=0}^{\\infty} 2^{- n}$"
      ],
      "text/plain": [
       "Sum(2**(-n), (n, 0, oo))"
      ]
     },
     "execution_count": 65,
     "metadata": {},
     "output_type": "execute_result"
    }
   ],
   "source": [
    "y"
   ]
  },
  {
   "cell_type": "code",
   "execution_count": 66,
   "id": "22be55cc-f349-423b-8e2a-a67501841647",
   "metadata": {},
   "outputs": [
    {
     "data": {
      "text/latex": [
       "$\\displaystyle 2$"
      ],
      "text/plain": [
       "2"
      ]
     },
     "execution_count": 66,
     "metadata": {},
     "output_type": "execute_result"
    }
   ],
   "source": [
    "y.doit()"
   ]
  },
  {
   "cell_type": "markdown",
   "id": "f3e8fc93-9b7e-47d3-915b-0eab006ecb64",
   "metadata": {},
   "source": [
    "## Series Expansion"
   ]
  },
  {
   "cell_type": "code",
   "execution_count": 59,
   "id": "a288572b-51b1-491e-9cc3-c968f5654c22",
   "metadata": {},
   "outputs": [
    {
     "data": {
      "text/latex": [
       "$\\displaystyle x - \\frac{x^{3}}{6} + \\frac{x^{5}}{120} + O\\left(x^{6}\\right)$"
      ],
      "text/plain": [
       "x - x**3/6 + x**5/120 + O(x**6)"
      ]
     },
     "execution_count": 59,
     "metadata": {},
     "output_type": "execute_result"
    }
   ],
   "source": [
    "smp.series(smp.sin(x))"
   ]
  },
  {
   "cell_type": "markdown",
   "id": "34b10377-fbdd-4a8c-9b8e-73cb8e27712c",
   "metadata": {},
   "source": [
    "## Limits"
   ]
  },
  {
   "cell_type": "code",
   "execution_count": 86,
   "id": "ee8c4fb9-d8dc-4c93-b6d7-535243522a9c",
   "metadata": {},
   "outputs": [
    {
     "data": {
      "text/latex": [
       "$\\displaystyle -\\infty$"
      ],
      "text/plain": [
       "-oo"
      ]
     },
     "execution_count": 86,
     "metadata": {},
     "output_type": "execute_result"
    }
   ],
   "source": [
    "smp.limit(1/x,x,0,'-')"
   ]
  },
  {
   "cell_type": "code",
   "execution_count": 90,
   "id": "4c599a73-ecb9-49d6-a24f-aa9484dd55f2",
   "metadata": {},
   "outputs": [
    {
     "data": {
      "text/latex": [
       "$\\displaystyle \\infty$"
      ],
      "text/plain": [
       "oo"
      ]
     },
     "execution_count": 90,
     "metadata": {},
     "output_type": "execute_result"
    }
   ],
   "source": [
    "smp.limit(1/x,x,0,'+')"
   ]
  },
  {
   "cell_type": "markdown",
   "id": "90629f1e-9899-4579-9788-ac6b305d544a",
   "metadata": {},
   "source": [
    "## Integrate"
   ]
  },
  {
   "cell_type": "code",
   "execution_count": 91,
   "id": "ff635be8-0caa-47d3-a8ec-38d297e9045f",
   "metadata": {},
   "outputs": [
    {
     "data": {
      "text/latex": [
       "$\\displaystyle \\operatorname{atan}{\\left(x \\right)}$"
      ],
      "text/plain": [
       "atan(x)"
      ]
     },
     "execution_count": 91,
     "metadata": {},
     "output_type": "execute_result"
    }
   ],
   "source": [
    "smp.integrate(1/(1 + x**2),x)"
   ]
  },
  {
   "cell_type": "markdown",
   "id": "968d63de-b47d-45be-a2e8-7d134f6455a0",
   "metadata": {},
   "source": [
    "## Differentiate"
   ]
  },
  {
   "cell_type": "code",
   "execution_count": 75,
   "id": "e2567452-f53f-4761-b91c-2dd3d8b412ed",
   "metadata": {},
   "outputs": [
    {
     "data": {
      "text/latex": [
       "$\\displaystyle \\frac{1}{x^{2} + 1}$"
      ],
      "text/plain": [
       "1/(x**2 + 1)"
      ]
     },
     "execution_count": 75,
     "metadata": {},
     "output_type": "execute_result"
    }
   ],
   "source": [
    "smp.diff(smp.atan(x),x)"
   ]
  },
  {
   "cell_type": "markdown",
   "id": "eff78f03-2163-4a5d-be20-391153949678",
   "metadata": {},
   "source": [
    "## Solving Algebraic Equations"
   ]
  },
  {
   "cell_type": "code",
   "execution_count": 101,
   "id": "6ec0998c-3379-40d0-bebe-0eb1fb744f06",
   "metadata": {},
   "outputs": [
    {
     "data": {
      "text/plain": [
       "[0, pi]"
      ]
     },
     "execution_count": 101,
     "metadata": {},
     "output_type": "execute_result"
    }
   ],
   "source": [
    "smp.solve(smp.sin(x), x)"
   ]
  }
 ],
 "metadata": {
  "kernelspec": {
   "display_name": "Virtual",
   "language": "python",
   "name": "virtual"
  },
  "language_info": {
   "codemirror_mode": {
    "name": "ipython",
    "version": 3
   },
   "file_extension": ".py",
   "mimetype": "text/x-python",
   "name": "python",
   "nbconvert_exporter": "python",
   "pygments_lexer": "ipython3",
   "version": "3.9.5"
  }
 },
 "nbformat": 4,
 "nbformat_minor": 5
}
